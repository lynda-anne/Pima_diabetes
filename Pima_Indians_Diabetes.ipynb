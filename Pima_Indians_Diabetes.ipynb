{
 "cells": [
  {
   "cell_type": "markdown",
   "metadata": {},
   "source": [
    "## Using data from Pima Indians create model to determine if person will be diabetic or not based on indicators provided"
   ]
  },
  {
   "cell_type": "code",
   "execution_count": 1,
   "metadata": {},
   "outputs": [],
   "source": [
    "import pandas as pd\n",
    "import numpy as np\n",
    "import matplotlib.pyplot as plt\n",
    "from sklearn.neighbors import KNeighborsClassifier\n",
    "from sklearn.model_selection import train_test_split, cross_val_score\n",
    "from sklearn.svm import SVC\n",
    "from sklearn.linear_model import LogisticRegression\n",
    "from sklearn.preprocessing import scale\n",
    "import seaborn as sns; sns.set()"
   ]
  },
  {
   "cell_type": "markdown",
   "metadata": {},
   "source": [
    "## download and read csv file into a dataframe, inspect data\n"
   ]
  },
  {
   "cell_type": "code",
   "execution_count": 2,
   "metadata": {},
   "outputs": [
    {
     "name": "stdout",
     "output_type": "stream",
     "text": [
      "   Pregnancies  Glucose  BloodPressure  SkinThickness  Insulin   BMI  \\\n",
      "0            6      148             72             35        0  33.6   \n",
      "1            1       85             66             29        0  26.6   \n",
      "2            8      183             64              0        0  23.3   \n",
      "3            1       89             66             23       94  28.1   \n",
      "4            0      137             40             35      168  43.1   \n",
      "\n",
      "   DiabetesPedigreeFunction  Age  Outcome  \n",
      "0                     0.627   50        1  \n",
      "1                     0.351   31        0  \n",
      "2                     0.672   32        1  \n",
      "3                     0.167   21        0  \n",
      "4                     2.288   33        1  \n",
      "<class 'pandas.core.frame.DataFrame'>\n",
      "RangeIndex: 768 entries, 0 to 767\n",
      "Data columns (total 9 columns):\n",
      "Pregnancies                 768 non-null int64\n",
      "Glucose                     768 non-null int64\n",
      "BloodPressure               768 non-null int64\n",
      "SkinThickness               768 non-null int64\n",
      "Insulin                     768 non-null int64\n",
      "BMI                         768 non-null float64\n",
      "DiabetesPedigreeFunction    768 non-null float64\n",
      "Age                         768 non-null int64\n",
      "Outcome                     768 non-null int64\n",
      "dtypes: float64(2), int64(7)\n",
      "memory usage: 54.1 KB\n",
      "       Pregnancies     Glucose  BloodPressure  SkinThickness     Insulin  \\\n",
      "count   768.000000  768.000000     768.000000     768.000000  768.000000   \n",
      "mean      3.845052  120.894531      69.105469      20.536458   79.799479   \n",
      "std       3.369578   31.972618      19.355807      15.952218  115.244002   \n",
      "min       0.000000    0.000000       0.000000       0.000000    0.000000   \n",
      "25%       1.000000   99.000000      62.000000       0.000000    0.000000   \n",
      "50%       3.000000  117.000000      72.000000      23.000000   30.500000   \n",
      "75%       6.000000  140.250000      80.000000      32.000000  127.250000   \n",
      "max      17.000000  199.000000     122.000000      99.000000  846.000000   \n",
      "\n",
      "              BMI  DiabetesPedigreeFunction         Age     Outcome  \n",
      "count  768.000000                768.000000  768.000000  768.000000  \n",
      "mean    31.992578                  0.471876   33.240885    0.348958  \n",
      "std      7.884160                  0.331329   11.760232    0.476951  \n",
      "min      0.000000                  0.078000   21.000000    0.000000  \n",
      "25%     27.300000                  0.243750   24.000000    0.000000  \n",
      "50%     32.000000                  0.372500   29.000000    0.000000  \n",
      "75%     36.600000                  0.626250   41.000000    1.000000  \n",
      "max     67.100000                  2.420000   81.000000    1.000000  \n"
     ]
    }
   ],
   "source": [
    "pima = pd.read_csv('diabetes.csv')\n",
    "\n",
    "print(pima.head())\n",
    "pima.info()\n",
    "print(pima.describe())"
   ]
  },
  {
   "cell_type": "markdown",
   "metadata": {},
   "source": [
    "## There are no missing values but insulin values cannot be 0, fill in with mean of available insulin values"
   ]
  },
  {
   "cell_type": "code",
   "execution_count": 3,
   "metadata": {},
   "outputs": [
    {
     "name": "stdout",
     "output_type": "stream",
     "text": [
      "79.79947916666667\n",
      "<class 'pandas.core.frame.DataFrame'>\n",
      "RangeIndex: 768 entries, 0 to 767\n",
      "Data columns (total 9 columns):\n",
      "Pregnancies                 768 non-null float64\n",
      "Glucose                     768 non-null float64\n",
      "BloodPressure               768 non-null float64\n",
      "SkinThickness               768 non-null float64\n",
      "Insulin                     768 non-null float64\n",
      "BMI                         768 non-null float64\n",
      "DiabetesPedigreeFunction    768 non-null float64\n",
      "Age                         768 non-null float64\n",
      "Outcome                     768 non-null float64\n",
      "dtypes: float64(9)\n",
      "memory usage: 54.1 KB\n",
      "<class 'pandas.core.frame.DataFrame'>\n",
      "RangeIndex: 768 entries, 0 to 767\n",
      "Data columns (total 9 columns):\n",
      "Pregnancies                 768 non-null float64\n",
      "Glucose                     768 non-null float64\n",
      "BloodPressure               768 non-null float64\n",
      "SkinThickness               768 non-null float64\n",
      "Insulin                     768 non-null float64\n",
      "BMI                         768 non-null float64\n",
      "DiabetesPedigreeFunction    768 non-null float64\n",
      "Age                         768 non-null float64\n",
      "Outcome                     768 non-null int64\n",
      "dtypes: float64(8), int64(1)\n",
      "memory usage: 54.1 KB\n"
     ]
    }
   ],
   "source": [
    "avg_insulin= (np.mean(pima['Insulin']))\n",
    "print(avg_insulin)\n",
    "pima[pima['Insulin']== 0]= avg_insulin\n",
    "pima.info()\n",
    "pima['Outcome']= pima['Outcome'].astype('int')\n",
    "pima.info()\n"
   ]
  },
  {
   "cell_type": "markdown",
   "metadata": {},
   "source": [
    "## Visually inspect the data"
   ]
  },
  {
   "cell_type": "code",
   "execution_count": 4,
   "metadata": {},
   "outputs": [
    {
     "data": {
      "image/png": "[encoded data removed]",
      "text/plain": [
       "<matplotlib.figure.Figure at 0x1a17609240>"
      ]
     },
     "metadata": {},
     "output_type": "display_data"
    }
   ],
   "source": [
    "cm = pima.corr()\n",
    "plt.figure(figsize = (6,6))\n",
    "sns.heatmap(cm, square=True, center=1.5)\n",
    "plt.yticks(rotation=0)\n",
    "plt.xticks(rotation=90)\n",
    "plt.show()"
   ]
  },
  {
   "cell_type": "markdown",
   "metadata": {},
   "source": [
    "## data is clean, setup variables for modeling\n"
   ]
  },
  {
   "cell_type": "code",
   "execution_count": 5,
   "metadata": {},
   "outputs": [
    {
     "name": "stdout",
     "output_type": "stream",
     "text": [
      "(768, 8) (768,)\n"
     ]
    }
   ],
   "source": [
    "X= pima.drop(['Outcome'], axis=1).values\n",
    "X_scaled= scale(X)\n",
    "y= pima['Outcome'].values\n",
    "print(X.shape, y.shape)\n",
    "\n",
    "X_train, X_test, y_train, y_test= train_test_split(X, y, test_size=0.3, random_state=21, stratify=y)\n",
    "Xs_train, Xs_test, ys_train, ys_test= train_test_split(X_scaled, y, test_size=0.3, random_state=21, stratify=y)\n"
   ]
  },
  {
   "cell_type": "markdown",
   "metadata": {},
   "source": [
    "## Using Scikitlearn algorithm cheat sheet choose to Model using SCV\n"
   ]
  },
  {
   "cell_type": "code",
   "execution_count": 6,
   "metadata": {},
   "outputs": [
    {
     "name": "stdout",
     "output_type": "stream",
     "text": [
      "Score of SVC 0.8311688311688312\n",
      "Cross_Val Score of SVC, [0.83333333 0.83333333 0.83333333 0.82608696 0.82608696 0.82608696\n",
      " 0.82608696 0.82608696 0.82608696 0.85714286]\n",
      "Mean of Cross_val score: 0.8313664596273291\n"
     ]
    }
   ],
   "source": [
    "svm= SVC()\n",
    "svm.fit(X_train, y_train)\n",
    "y_pred= svm.predict(X_test)\n",
    "cv_results= cross_val_score(svm, X_test, y_test, cv=10)\n",
    "\n",
    "# print('Test set predicitons: \\n {}'.format(y_pred))\n",
    "print('Score of SVC {}' .format(svm.score(X_test, y_test)))\n",
    "print('Cross_Val Score of SVC, {}' .format(cv_results))\n",
    "print('Mean of Cross_val score: {}'.format(np.mean(cv_results)))"
   ]
  },
  {
   "cell_type": "markdown",
   "metadata": {},
   "source": [
    "## Normalize effect of magnitudes of data by scaling the x variable\n"
   ]
  },
  {
   "cell_type": "code",
   "execution_count": 7,
   "metadata": {},
   "outputs": [
    {
     "name": "stdout",
     "output_type": "stream",
     "text": [
      "Score of SVC, X_scaled  0.9004329004329005\n",
      "Cross_Val Score of SVC [0.875      0.875      0.95833333 0.95652174 0.95652174 0.86956522\n",
      " 0.91304348 0.7826087  0.82608696 0.76190476]\n",
      "Mean of Cross_val score: 0.8774585921325052\n"
     ]
    }
   ],
   "source": [
    "svm= SVC()\n",
    "svm.fit(Xs_train, ys_train)\n",
    "ys_pred= svm.predict(Xs_test)\n",
    "cv_results= cross_val_score(svm, Xs_test, ys_test, cv=10)\n",
    "\n",
    "# print('Test set predicitons: \\n {}'.format(ysvm.fit(X_train, y_train)\n",
    "print('Score of SVC, X_scaled  {}' .format(svm.score(Xs_test, ys_test)))\n",
    "print('Cross_Val Score of SVC {}' .format(cv_results))\n",
    "print('Mean of Cross_val score: {}'.format(np.mean(cv_results)))"
   ]
  },
  {
   "cell_type": "markdown",
   "metadata": {},
   "source": [
    "## Model using another method- KNeighborsClassifier\n"
   ]
  },
  {
   "cell_type": "code",
   "execution_count": 8,
   "metadata": {},
   "outputs": [
    {
     "name": "stdout",
     "output_type": "stream",
     "text": [
      "Score of KNN, n_neigh=5 0.8398268398268398\n",
      "Cross_Val Score of KNN, n_neigh=5 [0.83333333 0.91666667 0.91666667 0.95652174 0.95652174 0.82608696\n",
      " 0.82608696 0.7826087  0.7826087  0.80952381]\n",
      "Mean of Cross_val score: 0.8606625258799172\n"
     ]
    }
   ],
   "source": [
    "knn= KNeighborsClassifier(n_neighbors=5)\n",
    "knn.fit(X_train, y_train)\n",
    "y_pred= knn.predict(X_test)\n",
    "cv_results= cross_val_score(knn, X_test, y_test, cv=10)\n",
    "\n",
    "# print('Test set predicitons: \\n {}'.format(y_pred))\n",
    "print('Score of KNN, n_neigh=5 {}' .format(knn.score(X_test, y_test)))\n",
    "print('Cross_Val Score of KNN, n_neigh=5 {}' .format(cv_results))\n",
    "print('Mean of Cross_val score: {}'.format(np.mean(cv_results)))"
   ]
  },
  {
   "cell_type": "markdown",
   "metadata": {},
   "source": [
    "## Model using KNeighborsClassifier with scaled X\n"
   ]
  },
  {
   "cell_type": "code",
   "execution_count": 9,
   "metadata": {},
   "outputs": [
    {
     "name": "stdout",
     "output_type": "stream",
     "text": [
      "Score of KNN, n_neigh=5, X_scaled 0.8701298701298701\n",
      "Cross_Val Score of KNN, n_neigh=5, x_scaled [0.91666667 0.91666667 0.95833333 0.95652174 0.95652174 0.7826087\n",
      " 0.82608696 0.7826087  0.7826087  0.85714286]\n",
      "Mean of Cross_val score: 0.8735766045548654\n"
     ]
    }
   ],
   "source": [
    "knn= KNeighborsClassifier(n_neighbors=5)\n",
    "knn.fit(Xs_train, ys_train)\n",
    "ys_pred= knn.predict(Xs_test)\n",
    "cv_results= cross_val_score(knn, Xs_test, ys_test, cv=10)\n",
    "\n",
    "# print('Test set predicitons: \\n {}'.format(y_pred))\n",
    "print('Score of KNN, n_neigh=5, X_scaled {}' .format(knn.score(Xs_test, ys_test)))\n",
    "print('Cross_Val Score of KNN, n_neigh=5, x_scaled {}' .format(cv_results))\n",
    "print('Mean of Cross_val score: {}'.format(np.mean(cv_results)))"
   ]
  },
  {
   "cell_type": "markdown",
   "metadata": {},
   "source": [
    "## Determine the accuracy for a range of values for k, x unscaled\n"
   ]
  },
  {
   "cell_type": "code",
   "execution_count": 10,
   "metadata": {},
   "outputs": [
    {
     "data": {
      "image/png": "[encoded data removed]",
      "text/plain": [
       "<matplotlib.figure.Figure at 0x1a207faa58>"
      ]
     },
     "metadata": {},
     "output_type": "display_data"
    }
   ],
   "source": [
    "neighbors= np.arange(1, 11)\n",
    "train_accuracy= np.empty(len(neighbors))\n",
    "test_accuracy= np.empty(len(neighbors))\n",
    "\n",
    "for i, k in enumerate(neighbors) :\n",
    "    knn= KNeighborsClassifier(n_neighbors= k)\n",
    "    knn.fit(X_train, y_train)\n",
    "    train_accuracy[i]=knn.score(X_train, y_train)\n",
    "    test_accuracy[i]=knn.score(X_test, y_test)\n",
    "\n",
    "plt.plot(neighbors, train_accuracy, label='Training')\n",
    "plt.plot(neighbors, test_accuracy, label='Test')\n",
    "plt.xlabel('k_value')\n",
    "plt.ylabel('accuracy')\n",
    "plt.title('Accuracy Train vs Test')\n",
    "plt.legend(loc='best', fontsize='small', markerscale=0.7)\n",
    "plt.show()"
   ]
  },
  {
   "cell_type": "markdown",
   "metadata": {},
   "source": [
    "## Run KNN again with optimized n value"
   ]
  },
  {
   "cell_type": "code",
   "execution_count": 11,
   "metadata": {},
   "outputs": [
    {
     "name": "stdout",
     "output_type": "stream",
     "text": [
      "Score of KNN, n_neigh=7 0.8614718614718615\n",
      "Cross_Val Score of KNN, n_neigh=7 [0.83333333 0.91666667 0.95833333 0.95652174 0.91304348 0.82608696\n",
      " 0.82608696 0.73913043 0.7826087  0.85714286]\n",
      "Mean of Cross_val score: 0.8608954451345756\n"
     ]
    }
   ],
   "source": [
    "#Model using KNeighborsClassifier n_neighbors = 7\n",
    "knn= KNeighborsClassifier(n_neighbors=7)\n",
    "knn.fit(X_train, y_train)\n",
    "y_pred= knn.predict(X_test)\n",
    "cv_results= cross_val_score(knn, X_test, y_test, cv=10)\n",
    "\n",
    "# print('Test set predicitons: \\n {}'.format(y_pred))\n",
    "print('Score of KNN, n_neigh=7 {}' .format(knn.score(X_test, y_test)))\n",
    "print('Cross_Val Score of KNN, n_neigh=7 {}' .format(cv_results))\n",
    "print('Mean of Cross_val score: {}'.format(np.mean(cv_results)))"
   ]
  },
  {
   "cell_type": "markdown",
   "metadata": {},
   "source": [
    "## Determine the accuracy for a range of values for k, x scaled\n"
   ]
  },
  {
   "cell_type": "code",
   "execution_count": 12,
   "metadata": {},
   "outputs": [
    {
     "data": {
      "image/png": "[encoded data removed]",
      "text/plain": [
       "<matplotlib.figure.Figure at 0x1a208347b8>"
      ]
     },
     "metadata": {},
     "output_type": "display_data"
    }
   ],
   "source": [
    "neighbors= np.arange(1, 11)\n",
    "train_accuracy= np.empty(len(neighbors))\n",
    "test_accuracy= np.empty(len(neighbors))\n",
    "\n",
    "for i, k in enumerate(neighbors) :\n",
    "    knn= KNeighborsClassifier(n_neighbors= k)\n",
    "    knn.fit(Xs_train, ys_train)\n",
    "    train_accuracy[i]=knn.score(Xs_train, ys_train)\n",
    "    test_accuracy[i]=knn.score(Xs_test, ys_test)\n",
    "\n",
    "plt.plot(neighbors, train_accuracy, label='Training')\n",
    "plt.plot(neighbors, test_accuracy, label='Test')\n",
    "plt.xlabel('k_value')\n",
    "plt.ylabel('accuracy')\n",
    "plt.title('Accuracy Train vs Test')\n",
    "plt.legend(loc='best', fontsize='small', markerscale=0.7)\n",
    "plt.show()"
   ]
  },
  {
   "cell_type": "markdown",
   "metadata": {},
   "source": [
    "## Run KNN again with optimized n value"
   ]
  },
  {
   "cell_type": "code",
   "execution_count": 13,
   "metadata": {},
   "outputs": [
    {
     "name": "stdout",
     "output_type": "stream",
     "text": [
      "Score of KNN, n_neigh=9, X_scaled 0.8831168831168831\n",
      "Cross_Val Score of KNN, n_neigh=9, x_scaled [0.91666667 0.95833333 0.91666667 0.95652174 0.91304348 0.82608696\n",
      " 0.91304348 0.7826087  0.7826087  0.85714286]\n",
      "Mean of Cross_val score: 0.8822722567287785\n"
     ]
    }
   ],
   "source": [
    "knn= KNeighborsClassifier(n_neighbors=9)\n",
    "knn.fit(Xs_train, ys_train)\n",
    "ys_pred= knn.predict(Xs_test)\n",
    "cv_results= cross_val_score(knn, Xs_test, ys_test, cv=10)\n",
    "\n",
    "# print('Test set predicitons: \\n {}'.format(y_pred))\n",
    "print('Score of KNN, n_neigh=9, X_scaled {}' .format(knn.score(Xs_test, ys_test)))\n",
    "print('Cross_Val Score of KNN, n_neigh=9, x_scaled {}' .format(cv_results))\n",
    "print('Mean of Cross_val score: {}'.format(np.mean(cv_results)))"
   ]
  },
  {
   "cell_type": "code",
   "execution_count": null,
   "metadata": {},
   "outputs": [],
   "source": []
  },
  {
   "cell_type": "code",
   "execution_count": null,
   "metadata": {},
   "outputs": [],
   "source": []
  },
  {
   "cell_type": "code",
   "execution_count": null,
   "metadata": {},
   "outputs": [],
   "source": []
  }
 ],
 "metadata": {
  "kernelspec": {
   "display_name": "Python 3",
   "language": "python",
   "name": "python3"
  },
  "language_info": {
   "codemirror_mode": {
    "name": "ipython",
    "version": 3
   },
   "file_extension": ".py",
   "mimetype": "text/x-python",
   "name": "python",
   "nbconvert_exporter": "python",
   "pygments_lexer": "ipython3",
   "version": "3.6.4"
  }
 },
 "nbformat": 4,
 "nbformat_minor": 2
}
