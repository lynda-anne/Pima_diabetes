{
 "cells": [
  {
   "cell_type": "code",
   "execution_count": 1,
   "metadata": {},
   "outputs": [],
   "source": [
    "import pandas as pd\n",
    "import numpy as np\n",
    "import matplotlib.pyplot as plt\n",
    "from sklearn.neighbors import KNeighborsClassifier\n",
    "from sklearn.model_selection import train_test_split, cross_val_score\n",
    "from sklearn.svm import SVC\n",
    "from sklearn.linear_model import LogisticRegression\n",
    "from sklearn.preprocessing import scale\n",
    "import seaborn as sns; sns.set()"
   ]
  },
  {
   "cell_type": "code",
   "execution_count": 2,
   "metadata": {},
   "outputs": [
    {
     "name": "stdout",
     "output_type": "stream",
     "text": [
      "   Pregnancies  Glucose  BloodPressure  SkinThickness  Insulin   BMI  \\\n",
      "0            6      148             72             35        0  33.6   \n",
      "1            1       85             66             29        0  26.6   \n",
      "2            8      183             64              0        0  23.3   \n",
      "3            1       89             66             23       94  28.1   \n",
      "4            0      137             40             35      168  43.1   \n",
      "\n",
      "   DiabetesPedigreeFunction  Age  Outcome  \n",
      "0                     0.627   50        1  \n",
      "1                     0.351   31        0  \n",
      "2                     0.672   32        1  \n",
      "3                     0.167   21        0  \n",
      "4                     2.288   33        1  \n",
      "<class 'pandas.core.frame.DataFrame'>\n",
      "RangeIndex: 768 entries, 0 to 767\n",
      "Data columns (total 9 columns):\n",
      "Pregnancies                 768 non-null int64\n",
      "Glucose                     768 non-null int64\n",
      "BloodPressure               768 non-null int64\n",
      "SkinThickness               768 non-null int64\n",
      "Insulin                     768 non-null int64\n",
      "BMI                         768 non-null float64\n",
      "DiabetesPedigreeFunction    768 non-null float64\n",
      "Age                         768 non-null int64\n",
      "Outcome                     768 non-null int64\n",
      "dtypes: float64(2), int64(7)\n",
      "memory usage: 54.1 KB\n",
      "None\n"
     ]
    }
   ],
   "source": [
    "#download and read csv file into a datafram\n",
    "pima = pd.read_csv('diabetes.csv')\n",
    "\n",
    "print(pima.head())\n",
    "print(pima.info())\n",
    "# print(pima.describe())"
   ]
  },
  {
   "cell_type": "code",
   "execution_count": 3,
   "metadata": {},
   "outputs": [
    {
     "name": "stdout",
     "output_type": "stream",
     "text": [
      "79.79947916666667\n",
      "<class 'pandas.core.frame.DataFrame'>\n",
      "RangeIndex: 768 entries, 0 to 767\n",
      "Data columns (total 9 columns):\n",
      "Pregnancies                 768 non-null float64\n",
      "Glucose                     768 non-null float64\n",
      "BloodPressure               768 non-null float64\n",
      "SkinThickness               768 non-null float64\n",
      "Insulin                     768 non-null float64\n",
      "BMI                         768 non-null float64\n",
      "DiabetesPedigreeFunction    768 non-null float64\n",
      "Age                         768 non-null float64\n",
      "Outcome                     768 non-null int64\n",
      "dtypes: float64(8), int64(1)\n",
      "memory usage: 54.1 KB\n",
      "None\n"
     ]
    }
   ],
   "source": [
    "#Insulin values are unlikely to be 0, need to fill the 0's with the mean of insulin readings\n",
    "# print(pima['Insulin'])\n",
    "avg_insulin= (np.mean(pima['Insulin']))\n",
    "print(avg_insulin)\n",
    "pima[pima['Insulin']== 0]= avg_insulin\n",
    "# print(pima['Insulin'])\n",
    "pima['Outcome']= pima['Outcome'].astype('int')\n",
    "print(pima.info())\n"
   ]
  },
  {
   "cell_type": "code",
   "execution_count": 51,
   "metadata": {},
   "outputs": [
    {
     "data": {
      "image/png": "[encoded data removed]",
      "text/plain": [
       "<matplotlib.figure.Figure at 0x1a1c763048>"
      ]
     },
     "metadata": {},
     "output_type": "display_data"
    }
   ],
   "source": [
    "cm = pima.corr()\n",
    "# sns.heatmap(cm, square=True)\n",
    "sns.heatmap(cm, square=True, center=1.5)\n",
    "plt.yticks(rotation=0)\n",
    "plt.xticks(rotation=90)\n",
    "plt.show()"
   ]
  },
  {
   "cell_type": "code",
   "execution_count": 5,
   "metadata": {},
   "outputs": [
    {
     "name": "stdout",
     "output_type": "stream",
     "text": [
      "(768, 8) (768,)\n"
     ]
    }
   ],
   "source": [
    "#data is clean, setup variables for modeling\n",
    "#data to be modeled\n",
    "X= pima.drop(['Outcome'], axis=1).values\n",
    "X_scaled= scale(X)\n",
    "y= pima['Outcome'].values\n",
    "print(X.shape, y.shape)\n",
    "\n",
    "X_train, X_test, y_train, y_test= train_test_split(X, y, test_size=0.3, random_state=21, stratify=y)\n",
    "Xs_train, Xs_test, ys_train, ys_test= train_test_split(X_scaled, y, test_size=0.3, random_state=21, stratify=y)"
   ]
  },
  {
   "cell_type": "code",
   "execution_count": 6,
   "metadata": {},
   "outputs": [
    {
     "name": "stdout",
     "output_type": "stream",
     "text": [
      "Score of SVC 0.8311688311688312\n",
      "Cross_Val Score of KNN, n_neigh=5 [0.83333333 0.83333333 0.83333333 0.82608696 0.82608696 0.82608696\n",
      " 0.82608696 0.82608696 0.82608696 0.85714286]\n",
      "Mean of Cross_val score: 0.8313664596273291\n"
     ]
    }
   ],
   "source": [
    "#Using Scikitlean algorithm cheat sheet choose to Model using SCV\n",
    "svm= SVC()\n",
    "svm.fit(X_train, y_train)\n",
    "y_pred= svm.predict(X_test)\n",
    "cv_results= cross_val_score(svm, X_test, y_test, cv=10)\n",
    "\n",
    "# print('Test set predicitons: \\n {}'.format(y_pred))\n",
    "print('Score of SVC {}' .format(svm.score(X_test, y_test)))\n",
    "print('Cross_Val Score of KNN, n_neigh=5 {}' .format(cv_results))\n",
    "print('Mean of Cross_val score: {}'.format(np.mean(cv_results)))"
   ]
  },
  {
   "cell_type": "code",
   "execution_count": 7,
   "metadata": {},
   "outputs": [
    {
     "name": "stdout",
     "output_type": "stream",
     "text": [
      "Score of SVC, X_scaled  0.9004329004329005\n",
      "Cross_Val Score of SVC [0.875      0.875      0.95833333 0.95652174 0.95652174 0.86956522\n",
      " 0.91304348 0.7826087  0.82608696 0.76190476]\n",
      "Mean of Cross_val score: 0.8774585921325052\n"
     ]
    }
   ],
   "source": [
    "#Model using SCV with scaling x\n",
    "svm= SVC()\n",
    "svm.fit(Xs_train, ys_train)\n",
    "ys_pred= svm.predict(Xs_test)\n",
    "cv_results= cross_val_score(svm, Xs_test, ys_test, cv=10)\n",
    "\n",
    "# print('Test set predicitons: \\n {}'.format(ysvm.fit(X_train, y_train)\n",
    "print('Score of SVC, X_scaled  {}' .format(svm.score(Xs_test, ys_test)))\n",
    "print('Cross_Val Score of SVC {}' .format(cv_results))\n",
    "print('Mean of Cross_val score: {}'.format(np.mean(cv_results)))"
   ]
  },
  {
   "cell_type": "code",
   "execution_count": 8,
   "metadata": {},
   "outputs": [
    {
     "name": "stdout",
     "output_type": "stream",
     "text": [
      "Score of KNN, n_neigh=5 0.8398268398268398\n",
      "Cross_Val Score of KNN, n_neigh=5 [0.83333333 0.91666667 0.91666667 0.95652174 0.95652174 0.82608696\n",
      " 0.82608696 0.7826087  0.7826087  0.80952381]\n",
      "Mean of Cross_val score: 0.8606625258799172\n"
     ]
    }
   ],
   "source": [
    "#Model using KNeighborsClassifier\n",
    "knn= KNeighborsClassifier(n_neighbors=5)\n",
    "knn.fit(X_train, y_train)\n",
    "y_pred= knn.predict(X_test)\n",
    "cv_results= cross_val_score(knn, X_test, y_test, cv=10)\n",
    "\n",
    "# print('Test set predicitons: \\n {}'.format(y_pred))\n",
    "print('Score of KNN, n_neigh=5 {}' .format(knn.score(X_test, y_test)))\n",
    "print('Cross_Val Score of KNN, n_neigh=5 {}' .format(cv_results))\n",
    "print('Mean of Cross_val score: {}'.format(np.mean(cv_results)))"
   ]
  },
  {
   "cell_type": "code",
   "execution_count": 9,
   "metadata": {},
   "outputs": [
    {
     "name": "stdout",
     "output_type": "stream",
     "text": [
      "Score of KNN, n_neigh=5, X_scaled 0.8701298701298701\n",
      "Cross_Val Score of KNN, n_neigh=5, x_scaled [0.91666667 0.91666667 0.95833333 0.95652174 0.95652174 0.7826087\n",
      " 0.82608696 0.7826087  0.7826087  0.85714286]\n",
      "Mean of Cross_val score: 0.8735766045548654\n"
     ]
    }
   ],
   "source": [
    "#Model using KNeighborsClassifier with scaled X\n",
    "knn= KNeighborsClassifier(n_neighbors=5)\n",
    "knn.fit(Xs_train, ys_train)\n",
    "ys_pred= knn.predict(Xs_test)\n",
    "cv_results= cross_val_score(knn, Xs_test, ys_test, cv=10)\n",
    "\n",
    "# print('Test set predicitons: \\n {}'.format(y_pred))\n",
    "print('Score of KNN, n_neigh=5, X_scaled {}' .format(knn.score(Xs_test, ys_test)))\n",
    "print('Cross_Val Score of KNN, n_neigh=5, x_scaled {}' .format(cv_results))\n",
    "print('Mean of Cross_val score: {}'.format(np.mean(cv_results)))"
   ]
  },
  {
   "cell_type": "code",
   "execution_count": 10,
   "metadata": {},
   "outputs": [
    {
     "data": {
      "image/png": "[encoded data removed]",
      "text/plain": [
       "<matplotlib.figure.Figure at 0x1a1c602d30>"
      ]
     },
     "metadata": {},
     "output_type": "display_data"
    }
   ],
   "source": [
    "#plot a the accuracy for a range of values for k\n",
    "neighbors= np.arange(1, 11)\n",
    "train_accuracy= np.empty(len(neighbors))\n",
    "test_accuracy= np.empty(len(neighbors))\n",
    "\n",
    "for i, k in enumerate(neighbors) :\n",
    "    knn= KNeighborsClassifier(n_neighbors= k)\n",
    "    knn.fit(X_train, y_train)\n",
    "    train_accuracy[i]=knn.score(X_train, y_train)\n",
    "    test_accuracy[i]=knn.score(X_test, y_test)\n",
    "\n",
    "plt.plot(neighbors, train_accuracy, label='Training')\n",
    "plt.plot(neighbors, test_accuracy, label='Test')\n",
    "plt.xlabel('k_value')\n",
    "plt.ylabel('accuracy')\n",
    "plt.title('Accuracy Train vs Test')\n",
    "plt.legend(loc='best', fontsize='small', markerscale=0.7)\n",
    "plt.show()"
   ]
  },
  {
   "cell_type": "code",
   "execution_count": 12,
   "metadata": {},
   "outputs": [
    {
     "name": "stdout",
     "output_type": "stream",
     "text": [
      "Score of KNN, n_neigh=5 0.8614718614718615\n",
      "Cross_Val Score of KNN, n_neigh=5 [0.83333333 0.91666667 0.95833333 0.95652174 0.91304348 0.82608696\n",
      " 0.82608696 0.73913043 0.7826087  0.85714286]\n",
      "Mean of Cross_val score: 0.8608954451345756\n"
     ]
    }
   ],
   "source": [
    "#Model using KNeighborsClassifier n_neighbors = 7\n",
    "knn= KNeighborsClassifier(n_neighbors=7)\n",
    "knn.fit(X_train, y_train)\n",
    "y_pred= knn.predict(X_test)\n",
    "cv_results= cross_val_score(knn, X_test, y_test, cv=10)\n",
    "\n",
    "# print('Test set predicitons: \\n {}'.format(y_pred))\n",
    "print('Score of KNN, n_neigh=5 {}' .format(knn.score(X_test, y_test)))\n",
    "print('Cross_Val Score of KNN, n_neigh=5 {}' .format(cv_results))\n",
    "print('Mean of Cross_val score: {}'.format(np.mean(cv_results)))"
   ]
  },
  {
   "cell_type": "code",
   "execution_count": 11,
   "metadata": {},
   "outputs": [
    {
     "data": {
      "image/png": "[encoded data removed]",
      "text/plain": [
       "<matplotlib.figure.Figure at 0x1a1c6f1d68>"
      ]
     },
     "metadata": {},
     "output_type": "display_data"
    }
   ],
   "source": [
    "#plot a the accuracy for a range of values for k\n",
    "neighbors= np.arange(1, 11)\n",
    "train_accuracy= np.empty(len(neighbors))\n",
    "test_accuracy= np.empty(len(neighbors))\n",
    "\n",
    "for i, k in enumerate(neighbors) :\n",
    "    knn= KNeighborsClassifier(n_neighbors= k)\n",
    "    knn.fit(Xs_train, ys_train)\n",
    "    train_accuracy[i]=knn.score(Xs_train, ys_train)\n",
    "    test_accuracy[i]=knn.score(Xs_test, ys_test)\n",
    "\n",
    "plt.plot(neighbors, train_accuracy, label='Training')\n",
    "plt.plot(neighbors, test_accuracy, label='Test')\n",
    "plt.xlabel('k_value')\n",
    "plt.ylabel('accuracy')\n",
    "plt.title('Accuracy Train vs Test')\n",
    "plt.legend(loc='best', fontsize='small', markerscale=0.7)\n",
    "plt.show()"
   ]
  },
  {
   "cell_type": "code",
   "execution_count": 19,
   "metadata": {},
   "outputs": [
    {
     "name": "stdout",
     "output_type": "stream",
     "text": [
      "Score of KNN, n_neigh=5, X_scaled 0.8831168831168831\n",
      "Cross_Val Score of KNN, n_neigh=5, x_scaled [0.91666667 0.95833333 0.91666667 0.95652174 0.91304348 0.82608696\n",
      " 0.91304348 0.7826087  0.7826087  0.85714286]\n",
      "Mean of Cross_val score: 0.8822722567287785\n"
     ]
    }
   ],
   "source": [
    "#Model using KNeighborsClassifier with scaled X\n",
    "knn= KNeighborsClassifier(n_neighbors=9)\n",
    "knn.fit(Xs_train, ys_train)\n",
    "ys_pred= knn.predict(Xs_test)\n",
    "cv_results= cross_val_score(knn, Xs_test, ys_test, cv=10)\n",
    "\n",
    "# print('Test set predicitons: \\n {}'.format(y_pred))\n",
    "print('Score of KNN, n_neigh=5, X_scaled {}' .format(knn.score(Xs_test, ys_test)))\n",
    "print('Cross_Val Score of KNN, n_neigh=5, x_scaled {}' .format(cv_results))\n",
    "print('Mean of Cross_val score: {}'.format(np.mean(cv_results)))"
   ]
  },
  {
   "cell_type": "code",
   "execution_count": null,
   "metadata": {},
   "outputs": [],
   "source": []
  },
  {
   "cell_type": "code",
   "execution_count": null,
   "metadata": {},
   "outputs": [],
   "source": []
  },
  {
   "cell_type": "code",
   "execution_count": null,
   "metadata": {},
   "outputs": [],
   "source": []
  }
 ],
 "metadata": {
  "kernelspec": {
   "display_name": "Python 3",
   "language": "python",
   "name": "python3"
  },
  "language_info": {
   "codemirror_mode": {
    "name": "ipython",
    "version": 3
   },
   "file_extension": ".py",
   "mimetype": "text/x-python",
   "name": "python",
   "nbconvert_exporter": "python",
   "pygments_lexer": "ipython3",
   "version": "3.6.4"
  }
 },
 "nbformat": 4,
 "nbformat_minor": 2
}
